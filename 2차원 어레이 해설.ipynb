{
 "cells": [
  {
   "cell_type": "code",
   "execution_count": 1,
   "metadata": {},
   "outputs": [],
   "source": [
    "#판만들기\n",
    "#돌 입력\n",
    "#돌이 제대로 놓였는지 확인 - 범위 벗어나거나 돌위에 돌 얹거나\n",
    "#승리 확인\n",
    "#승리시 게임 종료\n",
    "#종료시까지 반복"
   ]
  },
  {
   "cell_type": "code",
   "execution_count": 4,
   "metadata": {},
   "outputs": [],
   "source": [
    "import numpy as np "
   ]
  },
  {
   "cell_type": "markdown",
   "metadata": {},
   "source": [
    "    bool_board=board==p  "
   ]
  },
  {
   "cell_type": "code",
   "execution_count": 11,
   "metadata": {},
   "outputs": [],
   "source": [
    "def check_win(board,p):\n",
    "    bool_board=board==p\n",
    "    for i in range(board_size):\n",
    "        if all(bool_board[:,i]): #  열 슬라이싱\n",
    "            return True\n",
    "        if all(bool_board[i,:]):# 다 True 인가\n",
    "            return True\n",
    "        \n",
    "    if all(bool_board.diagonal()) or all(np.rot90(bool_board).diagonal()):\n",
    "        return True\n",
    "    return False\n"
   ]
  },
  {
   "cell_type": "code",
   "execution_count": 12,
   "metadata": {},
   "outputs": [
    {
     "ename": "KeyboardInterrupt",
     "evalue": "",
     "output_type": "error",
     "traceback": [
      "\u001b[1;31m---------------------------------------------------------------------------\u001b[0m",
      "\u001b[1;31mKeyboardInterrupt\u001b[0m                         Traceback (most recent call last)",
      "\u001b[1;32mc:\\Users\\fpdh9\\Documents\\GitHub\\coding_practice\\2차원 어레이 해설.ipynb 셀 5\u001b[0m line \u001b[0;36m1\n\u001b[0;32m     <a href='vscode-notebook-cell:/c%3A/Users/fpdh9/Documents/GitHub/coding_practice/2%EC%B0%A8%EC%9B%90%20%EC%96%B4%EB%A0%88%EC%9D%B4%20%ED%95%B4%EC%84%A4.ipynb#W4sZmlsZQ%3D%3D?line=9'>10</a>\u001b[0m game_continue\u001b[39m=\u001b[39m\u001b[39mTrue\u001b[39;00m\n\u001b[0;32m     <a href='vscode-notebook-cell:/c%3A/Users/fpdh9/Documents/GitHub/coding_practice/2%EC%B0%A8%EC%9B%90%20%EC%96%B4%EB%A0%88%EC%9D%B4%20%ED%95%B4%EC%84%A4.ipynb#W4sZmlsZQ%3D%3D?line=10'>11</a>\u001b[0m \u001b[39mwhile\u001b[39;00m game_continue:\n\u001b[1;32m---> <a href='vscode-notebook-cell:/c%3A/Users/fpdh9/Documents/GitHub/coding_practice/2%EC%B0%A8%EC%9B%90%20%EC%96%B4%EB%A0%88%EC%9D%B4%20%ED%95%B4%EC%84%A4.ipynb#W4sZmlsZQ%3D%3D?line=13'>14</a>\u001b[0m     \u001b[39mif\u001b[39;00m check_win(maps,stone):\n\u001b[0;32m     <a href='vscode-notebook-cell:/c%3A/Users/fpdh9/Documents/GitHub/coding_practice/2%EC%B0%A8%EC%9B%90%20%EC%96%B4%EB%A0%88%EC%9D%B4%20%ED%95%B4%EC%84%A4.ipynb#W4sZmlsZQ%3D%3D?line=14'>15</a>\u001b[0m         game_continue\u001b[39m=\u001b[39m\u001b[39mFalse\u001b[39;00m\n\u001b[0;32m     <a href='vscode-notebook-cell:/c%3A/Users/fpdh9/Documents/GitHub/coding_practice/2%EC%B0%A8%EC%9B%90%20%EC%96%B4%EB%A0%88%EC%9D%B4%20%ED%95%B4%EC%84%A4.ipynb#W4sZmlsZQ%3D%3D?line=16'>17</a>\u001b[0m     \u001b[39mif\u001b[39;00m stone\u001b[39m==\u001b[39m\u001b[39m'\u001b[39m\u001b[39mO\u001b[39m\u001b[39m'\u001b[39m:\n",
      "\u001b[1;32mc:\\Users\\fpdh9\\Documents\\GitHub\\coding_practice\\2차원 어레이 해설.ipynb 셀 5\u001b[0m line \u001b[0;36m9\n\u001b[0;32m      <a href='vscode-notebook-cell:/c%3A/Users/fpdh9/Documents/GitHub/coding_practice/2%EC%B0%A8%EC%9B%90%20%EC%96%B4%EB%A0%88%EC%9D%B4%20%ED%95%B4%EC%84%A4.ipynb#W4sZmlsZQ%3D%3D?line=5'>6</a>\u001b[0m     \u001b[39mif\u001b[39;00m \u001b[39mall\u001b[39m(bool_board[i,:]):\u001b[39m# 다 True 인가\u001b[39;00m\n\u001b[0;32m      <a href='vscode-notebook-cell:/c%3A/Users/fpdh9/Documents/GitHub/coding_practice/2%EC%B0%A8%EC%9B%90%20%EC%96%B4%EB%A0%88%EC%9D%B4%20%ED%95%B4%EC%84%A4.ipynb#W4sZmlsZQ%3D%3D?line=6'>7</a>\u001b[0m         \u001b[39mreturn\u001b[39;00m \u001b[39mTrue\u001b[39;00m\n\u001b[1;32m----> <a href='vscode-notebook-cell:/c%3A/Users/fpdh9/Documents/GitHub/coding_practice/2%EC%B0%A8%EC%9B%90%20%EC%96%B4%EB%A0%88%EC%9D%B4%20%ED%95%B4%EC%84%A4.ipynb#W4sZmlsZQ%3D%3D?line=8'>9</a>\u001b[0m \u001b[39mif\u001b[39;00m \u001b[39mall\u001b[39m(bool_board\u001b[39m.\u001b[39mdiagonal()) \u001b[39mor\u001b[39;00m \u001b[39mall\u001b[39m(np\u001b[39m.\u001b[39;49mrot90(bool_board)\u001b[39m.\u001b[39mdiagonal()):\n\u001b[0;32m     <a href='vscode-notebook-cell:/c%3A/Users/fpdh9/Documents/GitHub/coding_practice/2%EC%B0%A8%EC%9B%90%20%EC%96%B4%EB%A0%88%EC%9D%B4%20%ED%95%B4%EC%84%A4.ipynb#W4sZmlsZQ%3D%3D?line=9'>10</a>\u001b[0m     \u001b[39mreturn\u001b[39;00m \u001b[39mTrue\u001b[39;00m\n\u001b[0;32m     <a href='vscode-notebook-cell:/c%3A/Users/fpdh9/Documents/GitHub/coding_practice/2%EC%B0%A8%EC%9B%90%20%EC%96%B4%EB%A0%88%EC%9D%B4%20%ED%95%B4%EC%84%A4.ipynb#W4sZmlsZQ%3D%3D?line=10'>11</a>\u001b[0m \u001b[39mreturn\u001b[39;00m \u001b[39mFalse\u001b[39;00m\n",
      "File \u001b[1;32mc:\\anaconda\\envs\\alpha\\lib\\site-packages\\numpy\\lib\\function_base.py:240\u001b[0m, in \u001b[0;36mrot90\u001b[1;34m(m, k, axes)\u001b[0m\n\u001b[0;32m    237\u001b[0m     \u001b[39mreturn\u001b[39;00m flip(flip(m, axes[\u001b[39m0\u001b[39m]), axes[\u001b[39m1\u001b[39m])\n\u001b[0;32m    239\u001b[0m axes_list \u001b[39m=\u001b[39m arange(\u001b[39m0\u001b[39m, m\u001b[39m.\u001b[39mndim)\n\u001b[1;32m--> 240\u001b[0m (axes_list[axes[\u001b[39m0\u001b[39m]], axes_list[axes[\u001b[39m1\u001b[39m]]) \u001b[39m=\u001b[39m (axes_list[axes[\u001b[39m1\u001b[39;49m]],\n\u001b[0;32m    241\u001b[0m                                             axes_list[axes[\u001b[39m0\u001b[39m]])\n\u001b[0;32m    243\u001b[0m \u001b[39mif\u001b[39;00m k \u001b[39m==\u001b[39m \u001b[39m1\u001b[39m:\n\u001b[0;32m    244\u001b[0m     \u001b[39mreturn\u001b[39;00m transpose(flip(m, axes[\u001b[39m1\u001b[39m]), axes_list)\n",
      "\u001b[1;31mKeyboardInterrupt\u001b[0m: "
     ]
    }
   ],
   "source": [
    "stone_list=[[1,2],[0,1],[2,1],[0,2],[0,2]]\n",
    "\n",
    "# 판만들기 \n",
    "board_size=3\n",
    "# maps= [['-' for i in range(3)] for j in range(3)]\n",
    "maps= [['-']*board_size for i in range(board_size)]\n",
    "maps=np.array(maps)\n",
    "stone='O'\n",
    "\n",
    "game_continue=True\n",
    "while game_continue:\n",
    "\n",
    "\n",
    "    if check_win(maps,stone):\n",
    "        game_continue=False\n",
    "\n",
    "    if stone=='O':\n",
    "        stone='X'\n",
    "    else:\n",
    "       stone='O'"
   ]
  }
 ],
 "metadata": {
  "kernelspec": {
   "display_name": "Python 3",
   "language": "python",
   "name": "python3"
  },
  "language_info": {
   "codemirror_mode": {
    "name": "ipython",
    "version": 3
   },
   "file_extension": ".py",
   "mimetype": "text/x-python",
   "name": "python",
   "nbconvert_exporter": "python",
   "pygments_lexer": "ipython3",
   "version": "3.9.18"
  }
 },
 "nbformat": 4,
 "nbformat_minor": 2
}
