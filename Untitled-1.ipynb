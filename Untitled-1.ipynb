{
 "cells": [
  {
   "cell_type": "code",
   "execution_count": 3,
   "metadata": {},
   "outputs": [
    {
     "name": "stdout",
     "output_type": "stream",
     "text": [
      "3\n"
     ]
    }
   ],
   "source": [
    "import random\n",
    "\n",
    "rand_int = random.randint(1,5) #1~100까지의 임의의 int를 생성합니다.\n",
    "\n",
    "print(rand_int)"
   ]
  },
  {
   "cell_type": "code",
   "execution_count": null,
   "metadata": {},
   "outputs": [],
   "source": []
  },
  {
   "cell_type": "code",
   "execution_count": 8,
   "metadata": {},
   "outputs": [
    {
     "name": "stdout",
     "output_type": "stream",
     "text": [
      "-------------------------------\n"
     ]
    }
   ],
   "source": [
    "num=int(input(\"1부터 100까지의 숫자를 맞춰보세요!\"))\n",
    "print('-------------------------------')\n",
    "count =0\n",
    "while(num!=rand_int):\n",
    "    \n",
    "    if num< rand_int:\n",
    "        num=int(input(\"Up! 더 큰 숫자를 입력하세요.\"))\n",
    "        count+=1\n",
    "        print('-------------------------------')\n",
    "        \n",
    "    elif num> rand_int:\n",
    "        num=int(input(\"Down! 더 작은 숫자를 입력하세요.\"))\n",
    "        count+=1\n",
    "        print('-------------------------------')\n",
    "        \n",
    "    elif num==rand_int:\n",
    "        count+=1\n",
    "        print(f'정답입니다! {num}를 {count}번 만에 맞췄습니다')\n",
    "    \n",
    "    \n",
    "    \n",
    "    if num<=0:\n",
    "        break"
   ]
  }
 ],
 "metadata": {
  "kernelspec": {
   "display_name": "Python 3",
   "language": "python",
   "name": "python3"
  },
  "language_info": {
   "codemirror_mode": {
    "name": "ipython",
    "version": 3
   },
   "file_extension": ".py",
   "mimetype": "text/x-python",
   "name": "python",
   "nbconvert_exporter": "python",
   "pygments_lexer": "ipython3",
   "version": "3.10.13"
  }
 },
 "nbformat": 4,
 "nbformat_minor": 2
}
