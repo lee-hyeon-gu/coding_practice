{
  "cells": [
    {
      "cell_type": "markdown",
      "metadata": {
        "id": "view-in-github",
        "colab_type": "text"
      },
      "source": [
        "<a href=\"https://colab.research.google.com/github/lee-hyeon-gu/coding_practice/blob/main/%ED%96%89%EB%A7%A8.ipynb\" target=\"_parent\"><img src=\"https://colab.research.google.com/assets/colab-badge.svg\" alt=\"Open In Colab\"/></a>"
      ]
    },
    {
      "cell_type": "code",
      "execution_count": 15,
      "metadata": {
        "colab": {
          "base_uri": "https://localhost:8080/"
        },
        "id": "eH7i_jZVrw8B",
        "outputId": "61783fef-e79e-4640-fe52-dd1743125898"
      },
      "outputs": [
        {
          "output_type": "stream",
          "name": "stdout",
          "text": [
            "글자를 입력하시오a\n",
            "['a', '_', '_', 'a', '_']\n",
            "your_try ['a']\n",
            "life *****\n",
            "글자를 입력하시오w\n",
            "오답!\n",
            "your_try ['a', 'w']\n",
            "life ****\n",
            "글자를 입력하시오o\n",
            "['a', 'o', '_', 'a', '_']\n",
            "your_try ['a', 'w', 'o']\n",
            "life ****\n",
            "글자를 입력하시오l\n",
            "['a', 'o', 'l', 'a', '_']\n",
            "your_try ['a', 'w', 'o', 'l']\n",
            "life ****\n",
            "글자를 입력하시오b\n",
            "['a', 'o', 'l', 'a', 'b']\n",
            "your_try ['a', 'w', 'o', 'l', 'b']\n",
            "life ****\n",
            "5 번 만에 성공!\n"
          ]
        }
      ],
      "source": [
        "answer=['c','o','l','a','b']\n",
        "blank=['_','_','_','_','_']\n",
        "wrong_answer=[]\n",
        "your_try=[]\n",
        "life=5\n",
        "count=0\n",
        "aeiou=['a','e','i','o','u']\n",
        "\n",
        "while(life>-1):\n",
        "    your_answer=''\n",
        "    your_answer=input('글자를 입력하시오')\n",
        "    count+=1\n",
        "\n",
        "\n",
        "    if your_answer in answer:\n",
        "\n",
        "        your_try.append(your_answer)\n",
        "\n",
        "        # answer에서 your_try 위치 찾아서 넣기\n",
        "\n",
        "        for j in range(5):\n",
        "            if answer[j]==your_answer:\n",
        "                blank[j]=your_answer\n",
        "\n",
        "        print(blank)\n",
        "\n",
        "\n",
        "    else:\n",
        "        print(\"오답!\")\n",
        "        # aeiou 빼기\n",
        "        if your_answer in aeiou:\n",
        "            pass\n",
        "        else:\n",
        "            wrong_answer.append(your_answer)\n",
        "            your_try.append(your_answer)\n",
        "            life-=1\n",
        "\n",
        "    print('your_try', your_try)\n",
        "    print('life','*'*life)\n",
        "\n",
        "    if answer==blank:\n",
        "        print(f\"{count} 번 만에 성공!\")\n",
        "        break\n",
        "\n",
        "    if life<=0:\n",
        "        print(\"실패!\")\n",
        "        break\n",
        "\n",
        "\n",
        "\n",
        "\n",
        "\n",
        "\n",
        "\n",
        "\n"
      ]
    },
    {
      "cell_type": "code",
      "source": [],
      "metadata": {
        "id": "fOTS3_Yl09ZR"
      },
      "execution_count": null,
      "outputs": []
    }
  ],
  "metadata": {
    "colab": {
      "provenance": [],
      "gpuType": "T4",
      "authorship_tag": "ABX9TyOv+e0XNfL3HCpWxoUTSDdl",
      "include_colab_link": true
    },
    "kernelspec": {
      "display_name": "Python 3",
      "name": "python3"
    },
    "language_info": {
      "name": "python"
    }
  },
  "nbformat": 4,
  "nbformat_minor": 0
}